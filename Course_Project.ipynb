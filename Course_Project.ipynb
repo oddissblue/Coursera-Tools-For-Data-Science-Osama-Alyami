{
 "cells": [
  {
   "cell_type": "markdown",
   "id": "748d90f7",
   "metadata": {},
   "source": [
    "# Final Project - Data Science Essentials"
   ]
  },
  {
   "cell_type": "markdown",
   "id": "52bc5d10",
   "metadata": {},
   "source": [
    "## Introduction  \n",
    "This notebook presents key concepts in data science, including popular languages, libraries, tools, and basic arithmetic operations using Python."
   ]
  },
  {
   "cell_type": "markdown",
   "id": "05d876bc",
   "metadata": {},
   "source": [
    "## Data Science Languages  \n",
    "Some of the commonly used programming languages in data science include:\n",
    "- Python  \n",
    "- R  \n",
    "- SQL  \n",
    "- Julia  \n",
    "- Scala  \n"
   ]
  },
  {
   "cell_type": "markdown",
   "id": "016a72e0",
   "metadata": {},
   "source": [
    "## Data Science Libraries  \n",
    "Popular data science libraries include:\n",
    "- NumPy  \n",
    "- Pandas  \n",
    "- Matplotlib  \n",
    "- Scikit-learn  \n",
    "- TensorFlow  \n",
    "- Keras"
   ]
  },
  {
   "cell_type": "markdown",
   "id": "cbb7404e",
   "metadata": {},
   "source": [
    "## Data Science Tools  \n",
    "\n",
    "| Tool Name        | Description                          |\n",
    "|------------------|--------------------------------------|\n",
    "| Jupyter Notebook | Interactive coding and documentation |\n",
    "| RStudio          | IDE for R language                   |\n",
    "| Apache Spark     | Big data processing engine           |\n",
    "| VS Code          | Lightweight code editor              |\n",
    "| Google Colab     | Cloud-based Python environment       |\n"
   ]
  },
  {
   "cell_type": "markdown",
   "id": "dd1022af",
   "metadata": {},
   "source": [
    "## Examples of Arithmetic Expressions in Python  \n",
    "Let's explore basic arithmetic operations such as addition and multiplication.\n"
   ]
  },
  {
   "cell_type": "code",
   "execution_count": 1,
   "id": "218681e5",
   "metadata": {},
   "outputs": [
    {
     "name": "stdout",
     "output_type": "stream",
     "text": [
      "The result of (6 * 7) + 10 is: 52\n"
     ]
    }
   ],
   "source": [
    "# This will multiply 6 by 7 and add 10\n",
    "result = (6 * 7) + 10\n",
    "print(\"The result of (6 * 7) + 10 is:\", result)"
   ]
  },
  {
   "cell_type": "code",
   "execution_count": 2,
   "id": "0951dde6",
   "metadata": {},
   "outputs": [
    {
     "name": "stdout",
     "output_type": "stream",
     "text": [
      "120 minutes is equal to 2.0 hours.\n"
     ]
    }
   ],
   "source": [
    "# Convert 120 minutes to hours\n",
    "minutes = 120\n",
    "hours = minutes / 60\n",
    "print(f\"{minutes} minutes is equal to {hours} hours.\")\n"
   ]
  },
  {
   "cell_type": "markdown",
   "id": "1e28b317",
   "metadata": {},
   "source": [
    "## Objectives  \n",
    "- Identify popular languages used in data science  \n",
    "- Describe common libraries and tools  \n",
    "- Demonstrate basic arithmetic in Python  \n",
    "- Convert time from minutes to hours  \n",
    "- Practice Markdown and code cell usage  "
   ]
  },
  {
   "cell_type": "markdown",
   "id": "6b9c70b8",
   "metadata": {},
   "source": [
    "**Author:** Osama Alyami"
   ]
  },
  {
   "cell_type": "markdown",
   "id": "db26a019",
   "metadata": {},
   "source": [
    "**GitHub Link:** [GitHub Repo](https://github.com/oddissblue/Coursera-Tools-For-Data-Science-Osama-Alyami)"
   ]
  },
  {
   "cell_type": "markdown",
   "id": "5bcf1830",
   "metadata": {},
   "source": []
  }
 ],
 "metadata": {
  "kernelspec": {
   "display_name": "env",
   "language": "python",
   "name": "python3"
  },
  "language_info": {
   "codemirror_mode": {
    "name": "ipython",
    "version": 3
   },
   "file_extension": ".py",
   "mimetype": "text/x-python",
   "name": "python",
   "nbconvert_exporter": "python",
   "pygments_lexer": "ipython3",
   "version": "3.12.0"
  }
 },
 "nbformat": 4,
 "nbformat_minor": 5
}
