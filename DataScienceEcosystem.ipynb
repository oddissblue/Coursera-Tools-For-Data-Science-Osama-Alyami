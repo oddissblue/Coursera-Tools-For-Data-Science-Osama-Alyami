{
 "cells": [
  {
   "cell_type": "markdown",
   "id": "748d90f7",
   "metadata": {},
   "source": [
    "# Data Science Tools and Ecosystem"
   ]
  },
  {
   "cell_type": "markdown",
   "id": "52bc5d10",
   "metadata": {},
   "source": [
    "In this notebook, Data Science Tools and Ecosystem are summarized."
   ]
  },
  {
   "cell_type": "markdown",
   "id": "05d876bc",
   "metadata": {},
   "source": [
    "Some of the popular languages that Data Scientists use are:\n",
    "\n",
    "1. Python  \n",
    "2. R  \n",
    "3. SQL  \n",
    "4. Julia  \n",
    "5. Scala"
   ]
  },
  {
   "cell_type": "markdown",
   "id": "016a72e0",
   "metadata": {},
   "source": [
    "Some of the commonly used libraries used by Data Scientists include:\n",
    "\n",
    "1. Pandas  \n",
    "2. NumPy  \n",
    "3. Scikit-learn  \n",
    "4. TensorFlow  \n",
    "5. Matplotlib"
   ]
  },
  {
   "cell_type": "markdown",
   "id": "cbb7404e",
   "metadata": {},
   "source": [
    "## Data Science Tools  \n",
    "\n",
    "| Tool Name        | Description                          |\n",
    "|------------------|--------------------------------------|\n",
    "| Jupyter Notebook | Interactive coding and documentation |\n",
    "| RStudio          | IDE for R language                   |\n",
    "| Apache Spark     | Big data processing engine           |\n",
    "| VS Code          | Lightweight code editor              |\n",
    "| Google Colab     | Cloud-based Python environment       |\n"
   ]
  },
  {
   "cell_type": "markdown",
   "id": "dd1022af",
   "metadata": {},
   "source": [
    "### Below are a few examples of evaluating arithmetic expressions in Python."
   ]
  },
  {
   "cell_type": "code",
   "execution_count": 1,
   "id": "218681e5",
   "metadata": {},
   "outputs": [
    {
     "data": {
      "text/plain": [
       "17"
      ]
     },
     "execution_count": 1,
     "metadata": {},
     "output_type": "execute_result"
    }
   ],
   "source": [
    "# This a simple arithmetic expression to multiply then add integers\n",
    "(3 * 4) + 5"
   ]
  },
  {
   "cell_type": "code",
   "execution_count": 2,
   "id": "0951dde6",
   "metadata": {},
   "outputs": [
    {
     "data": {
      "text/plain": [
       "3.3333333333333335"
      ]
     },
     "execution_count": 2,
     "metadata": {},
     "output_type": "execute_result"
    }
   ],
   "source": [
    "# This will convert 200 minutes to hours by dividing by 60\n",
    "200 / 60"
   ]
  },
  {
   "cell_type": "markdown",
   "id": "1e28b317",
   "metadata": {},
   "source": [
    "**Objectives:**\n",
    "\n",
    "- List popular languages for Data Science  \n",
    "- List commonly used libraries for Data Science  \n",
    "- Create tables using markdown  \n",
    "- Perform arithmetic operations in Python  \n",
    "- Share notebooks via GitHub"
   ]
  },
  {
   "cell_type": "markdown",
   "id": "6b9c70b8",
   "metadata": {},
   "source": [
    "## Author\n",
    "\n",
    "Osama Alyami"
   ]
  },
  {
   "cell_type": "markdown",
   "id": "db26a019",
   "metadata": {},
   "source": [
    "**GitHub Link:** [GitHub Repo](https://github.com/oddissblue/Coursera-Tools-For-Data-Science-Osama-Alyami)"
   ]
  },
  {
   "cell_type": "markdown",
   "id": "5bcf1830",
   "metadata": {},
   "source": []
  }
 ],
 "metadata": {
  "kernelspec": {
   "display_name": "env",
   "language": "python",
   "name": "python3"
  },
  "language_info": {
   "codemirror_mode": {
    "name": "ipython",
    "version": 3
   },
   "file_extension": ".py",
   "mimetype": "text/x-python",
   "name": "python",
   "nbconvert_exporter": "python",
   "pygments_lexer": "ipython3",
   "version": "3.12.0"
  }
 },
 "nbformat": 4,
 "nbformat_minor": 5
}
